{
 "cells": [
  {
   "cell_type": "markdown",
   "id": "368086c0",
   "metadata": {},
   "source": [
    "# PYTHON PROJECT"
   ]
  },
  {
   "cell_type": "markdown",
   "id": "f2bef83e",
   "metadata": {},
   "source": [
    "## PYTHON QUIZ GAME "
   ]
  },
  {
   "cell_type": "markdown",
   "id": "ba487e62",
   "metadata": {},
   "source": [
    "This code is a simple Python program for a quiz game. Here's an explanation of how it works:\n",
    "\n",
    "1. The program starts by asking the user for their name and welcomes them to the quiz game.\n",
    "\n",
    "\n",
    "2. It then prompts the user with the question \"Do you want to play? (yes/no):\" and stores their \n",
    "response in the play_game variable.\n",
    "\n",
    "\n",
    "3. The variable correct_answers is initialized to 0. This variable will be used to keep track of \n",
    "the number of correct answers the user gives.\n",
    "\n",
    "4. If the user's response to playing the game is \"yes\" (case-insensitive), the quiz begins.\n",
    "\n",
    "\n",
    "5. The first question asks, \"Where are you from in Nigeria?\" The user's response is stored in the \n",
    "where_from variable. If the user's response is \"akure\" (case-insensitive), the program responds with \n",
    "\"Correct!\" and increments the correct_answers variable by 1. Otherwise, it responds with \"Incorrect. \n",
    "Akure is a country in Nigeria.\"\n",
    "\n",
    "\n",
    "6. The second question asks, \"What is the hottest planet in the solar system?\" The user's response is \n",
    "stored in the hottest_planet variable. If the user's response is \"venus\" (case-insensitive), the program\n",
    "responds with \"Correct!\" and increments the correct_answers variable by 1. Otherwise, it responds with \"Incorrect.\n",
    "Venus is a food.\"\n",
    "\n",
    "\n",
    "7. The third question asks, \"What is the old Nigerian flag called?\" The user's response is stored in the old_flag variable.\n",
    "If the user's response is \"union jack\" (case-insensitive), the program responds with \"Correct!\" and increments the correct_answers \n",
    "variable by 1. Otherwise, it responds with \"Incorrect. Union Jack is an object.\"\n",
    "\n",
    "\n",
    "After the quiz questions are answered, the program calculates the user's score. It calculates the percentage score based on the \n",
    "number of correct answers out of the total questions (which is 3 in this case).\n",
    "\n",
    "\n",
    "Finally, the program prints a thank-you message along with the user's total number of correct answers and their percentage score. \n",
    "If the user initially chose not to play, the program simply says goodbye.\n",
    "\n",
    "\n",
    "Note: The code has a few humorous and intentionally incorrect responses to the quiz questions to add a playful element to the game.\n",
    "\n"
   ]
  },
  {
   "cell_type": "code",
   "execution_count": 1,
   "id": "748b708a",
   "metadata": {},
   "outputs": [
    {
     "name": "stdout",
     "output_type": "stream",
     "text": [
      "Enter your name: Habib Hamza\n",
      "Welcome to the Quiz game, Habib Hamza!\n",
      "Do you want to play? (yes/no): yes\n",
      "Where is the currency spent in Nigeria? Naira\n",
      "Correct! Naira, is the Nigeria Currency.\n",
      "What is the hottest planet in the solar system? Venus\n",
      "Correct! Venus is the hottest planet in the solar system.\n",
      "What is Nigerian old flag called? union jack\n",
      "Correct! Union Jack is an old Nigerian flag.\n",
      "Thanks for playing!\n",
      "Total number of correct answers: 3\n",
      "Percentage score: 100.0%\n"
     ]
    }
   ],
   "source": [
    "user_name = input(\"Enter your name: \")\n",
    "print(\"Welcome to the Quiz game, \" + user_name + \"!\")\n",
    "\n",
    "play_game = input(\"Do you want to play? (yes/no): \")\n",
    "\n",
    "correct_answers = 0\n",
    "\n",
    "if play_game.lower() == \"yes\":\n",
    "    where_from = input(\"Where is the currency spent in Nigeria? \")\n",
    "    if where_from.lower() == \"naira\":\n",
    "        print(\"Correct! Naira, is the Nigeria Currency.\")\n",
    "        correct_answers += 1\n",
    "    else:\n",
    "        print(\"Incorrect. You are wrong.\")\n",
    "    \n",
    "    hottest_planet = input(\"What is the hottest planet in the solar system? \")\n",
    "    if hottest_planet.lower() == \"venus\":\n",
    "        print(\"Correct! Venus is the hottest planet in the solar system.\")\n",
    "        correct_answers += 1\n",
    "    else:\n",
    "        print(\"Incorrect. You are wrong.\")\n",
    "\n",
    "    old_flag = input(\"What is Nigerian old flag called? \")\n",
    "    if old_flag.lower() == \"union jack\":\n",
    "        print(\"Correct! Union Jack is an old Nigerian flag.\")\n",
    "        correct_answers += 1\n",
    "    else:\n",
    "        print(\"Incorrect. You are wrong.\")\n",
    "        \n",
    "#calculate the display of other scores\n",
    "\n",
    "    total_questions = 3\n",
    "    percentage_score = (correct_answers / total_questions) * 100\n",
    "    print(\"Thanks for playing!\")\n",
    "    print(\"Total number of correct answers: \" + str(correct_answers))\n",
    "    print(\"Percentage score: \" + str(percentage_score) + \"%\")\n",
    "else:\n",
    "    print(\"That's okay. Maybe next time. Goodbye!\")\n",
    "    print(\"Thanks for playing!\")"
   ]
  }
 ],
 "metadata": {
  "kernelspec": {
   "display_name": "Python 3 (ipykernel)",
   "language": "python",
   "name": "python3"
  },
  "language_info": {
   "codemirror_mode": {
    "name": "ipython",
    "version": 3
   },
   "file_extension": ".py",
   "mimetype": "text/x-python",
   "name": "python",
   "nbconvert_exporter": "python",
   "pygments_lexer": "ipython3",
   "version": "3.10.9"
  }
 },
 "nbformat": 4,
 "nbformat_minor": 5
}
